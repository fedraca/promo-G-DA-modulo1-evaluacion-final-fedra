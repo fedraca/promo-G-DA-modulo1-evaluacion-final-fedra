{
 "cells": [
  {
   "cell_type": "markdown",
   "metadata": {},
   "source": [
    "#Modulo 1- Primera Evaluación."
   ]
  },
  {
   "cell_type": "markdown",
   "metadata": {},
   "source": [
    " A lo largo de esta evaluación tendrás que crear una clase llamada Tienda_Online que cumpla los siguientes requisitos:\n",
    "\n",
    " La clase TiendaOnline debe tener los siguientes atributos:\n",
    " \n",
    " 1- inventario (lista de diccionarios): Un atributo para almacenar los productos en el inventario. Cada producto debe ser representado como un diccionario con las siguientes claves: 'nombre', 'precio', y 'cantidad'. Al principio deberá ser una lista vacía.\n",
    " ejemplo de como deberia de ser: "
   ]
  },
  {
   "cell_type": "code",
   "execution_count": 299,
   "metadata": {},
   "outputs": [],
   "source": [
    "class TiendaOnline:\n",
    "                                                             \n",
    "    def __init__(self, inventario, clientes, ventas = 0):\n",
    "        self.inventario = []\n",
    "        self.clientes = {}\n",
    "        self.ventas = 0\n",
    "                          # 1-metodo agregar producto, \n",
    "    def agregar_producto(self, nombre, precio, cantidad):\n",
    "        producto_eninven = False\n",
    "        for producto in self.inventario:\n",
    "            if producto[\"nombre\"] == nombre:\n",
    "                producto_eninven =True\n",
    "                producto[\"cantidad\"] = cantidad \n",
    "                break\n",
    "        else:\n",
    "             self.inventario.append({\"nombre\":nombre, \"precio\": precio, \"cantidad\": cantidad})\n",
    "\n",
    "                   # 2- ver_inventario(self): Muestra el inventario de productos con sus detalles. \n",
    "                   # +- Utiliza un bucle for para recorrer el inventario.  -+.-imprime los detalles (nombre, precio, cantidad) de cada producto.\n",
    "    def ver_inventario(self):\n",
    "        for producto in self.inventario:\n",
    "            print(f'Nombre: {producto[\"nombre\"]}, Precio: {producto[\"precio\"]} $, Cantidad: {producto[\"cantidad\"]}')\n",
    "\n",
    "                    # 3.-buscar_producto(self,nombre) Busca un producto en el inventario por nombre y muestra sus detalles si se encuentra. \n",
    "                    # Debe recibir el nombre del producto como parámetro.\n",
    "                    # Utiliza un bucle for para recorrer el inventario.\n",
    "    def buscar_producto(self,nombre):\n",
    "        producto_eninven = False\n",
    "\n",
    "        for producto in self.inventario:\n",
    "            if producto[\"nombre\"] == nombre:\n",
    "                producto_eninven = True\n",
    "                return(f'Nombre: {producto[\"nombre\"]}, Precio:$ {producto[\"precio\"]} , Cantidad: {producto[\"cantidad\"]}')\n",
    "            else: \n",
    "                 print(f'el producto {nombre} no se encuentra en inventario')\n",
    "\n",
    "                 # 4.- actualizar_stock(self, nombre, cantidad): Actualiza el stock de un producto en el inventario. \n",
    "                 # Debe recibir el nombre del producto y la cantidad a agregar o quitar como parámetros.\n",
    "\n",
    "    def actualizar_stock(self, nombre, cantidad):\n",
    "        nueva_cantidad = []\n",
    "        for producto in self.inventario:\n",
    "            if producto[\"nombre\"] == nombre:\n",
    "                producto[\"cantidad\"] += nueva_cantidad\n",
    "                print(f'El stock{nombre} se ha actualizado a {nueva_cantidad}')\n",
    "                return\n",
    "        print(f'El producto{nombre}no esta en existencia')\n",
    "             \n",
    "             #  5-.eliminar_producto(self, nombre): Elimina un producto del inventario por nombre. \n",
    "            # Debe recibir el nombre del producto como parámetro.\n",
    "    def eliminar_producto(self,nombre):\n",
    "        checar_producto = True\n",
    "        for producto in self.inventario:\n",
    "            if producto[\"nombre\"] == nombre:\n",
    "                checar_producto = False\n",
    "                self.inventario.remove(producto)\n",
    "                print(f'se ha eliminado {producto} del inventario')\n",
    "                break \n",
    "            if not checar_producto:\n",
    "                print(f'el producto: {nombre} no se ha encontrado en el inventario')\n",
    "     \n",
    "\n",
    "            ##6 calcular_valor_inventario(self): Calcula y muestra el valor total del inventario.\n",
    "           #Utiliza un bucle for para calcular el valor total del inventario.\n",
    "           #Itera a través del inventario y suma el valor de cada producto (precio x cantidad). \n",
    "           # Es decir, calcula el valor total del inventario.\n",
    "    def valor_total_inventario(self):\n",
    "        valor= 0\n",
    "        for producto in self.inventario:\n",
    "            valor_total +=producto[\"precio\"] * producto[\"cantidad\"]   #valor total del inventario sumando el producto del precio por la cantidad para cada producto en el inventario.\n",
    "            return valor_total\n",
    "\n",
    "\n",
    "\n",
    "\n",
    "      # realizar_compra(self): Permite a un cliente realizar una compra seleccionando productos del inventario. \n",
    "      # Debe interactuar con el cliente para seleccionar productos y calcular el costo total de la compra.\n",
    "\n",
    "    def registrar_venta(self, cliente, producto, cantidad):\n",
    "        if producto in self.inventario and self.inventario[producto] >= cantidad:\n",
    "            self.ventas.append({\"cliente\": cliente, \"producto\": producto, \"cantidad\": cantidad})\n",
    "            self.inventario[producto] -= cantidad\n",
    "            print('Venta registrada correctamente.')\n",
    "        else:\n",
    "            print('Error: No hay suficiente stock del producto.')\n",
    "\n",
    "                                        "
   ]
  },
  {
   "cell_type": "code",
   "execution_count": 300,
   "metadata": {},
   "outputs": [],
   "source": [
    "alquimelia = TiendaOnline([], {}, 0)"
   ]
  },
  {
   "cell_type": "code",
   "execution_count": 301,
   "metadata": {},
   "outputs": [],
   "source": [
    "alquimelia.agregar_producto(\"jabon\", 7, 14)\n",
    "alquimelia.agregar_producto(\"shampoo\", 12, 25)\n",
    "alquimelia.agregar_producto(\"crema\", 10, 12)\n",
    "alquimelia.agregar_producto(\"dental\", 27, 5)\n"
   ]
  },
  {
   "cell_type": "code",
   "execution_count": 303,
   "metadata": {},
   "outputs": [
    {
     "name": "stdout",
     "output_type": "stream",
     "text": [
      "Nombre: jabon, Precio: 7 $, Cantidad: 14\n",
      "Nombre: shampoo, Precio: 12 $, Cantidad: 25\n",
      "Nombre: crema, Precio: 10 $, Cantidad: 12\n",
      "Nombre: dental, Precio: 27 $, Cantidad: 5\n"
     ]
    }
   ],
   "source": [
    "alquimelia.ver_inventario()"
   ]
  },
  {
   "cell_type": "code",
   "execution_count": 304,
   "metadata": {},
   "outputs": [
    {
     "data": {
      "text/plain": [
       "'Nombre: jabon, Precio:$ 7 , Cantidad: 14'"
      ]
     },
     "execution_count": 304,
     "metadata": {},
     "output_type": "execute_result"
    }
   ],
   "source": [
    "alquimelia.buscar_producto(\"jabon\")"
   ]
  },
  {
   "cell_type": "code",
   "execution_count": 306,
   "metadata": {},
   "outputs": [
    {
     "name": "stdout",
     "output_type": "stream",
     "text": [
      "se ha eliminado {'nombre': 'crema', 'precio': 10, 'cantidad': 12} del inventario\n"
     ]
    }
   ],
   "source": [
    "alquimelia.eliminar_producto(\"crema\")"
   ]
  },
  {
   "cell_type": "code",
   "execution_count": 309,
   "metadata": {},
   "outputs": [
    {
     "ename": "AttributeError",
     "evalue": "'TiendaOnline' object has no attribute 'valor_total'",
     "output_type": "error",
     "traceback": [
      "\u001b[0;31m---------------------------------------------------------------------------\u001b[0m",
      "\u001b[0;31mAttributeError\u001b[0m                            Traceback (most recent call last)",
      "\u001b[0;32m/tmp/ipykernel_767/1130062806.py\u001b[0m in \u001b[0;36m<module>\u001b[0;34m\u001b[0m\n\u001b[0;32m----> 1\u001b[0;31m \u001b[0malquimelia\u001b[0m\u001b[0;34m.\u001b[0m\u001b[0mvalor_total\u001b[0m\u001b[0;34m\u001b[0m\u001b[0;34m\u001b[0m\u001b[0m\n\u001b[0m",
      "\u001b[0;31mAttributeError\u001b[0m: 'TiendaOnline' object has no attribute 'valor_total'"
     ]
    }
   ],
   "source": [
    "alquimelia.valor_total"
   ]
  },
  {
   "cell_type": "code",
   "execution_count": 287,
   "metadata": {},
   "outputs": [
    {
     "ename": "TypeError",
     "evalue": "unsupported operand type(s) for +=: 'int' and 'list'",
     "output_type": "error",
     "traceback": [
      "\u001b[0;31m---------------------------------------------------------------------------\u001b[0m",
      "\u001b[0;31mTypeError\u001b[0m                                 Traceback (most recent call last)",
      "\u001b[0;32m/tmp/ipykernel_767/2997061242.py\u001b[0m in \u001b[0;36m<module>\u001b[0;34m\u001b[0m\n\u001b[0;32m----> 1\u001b[0;31m \u001b[0malquimelia\u001b[0m\u001b[0;34m.\u001b[0m\u001b[0mactualizar_stock\u001b[0m\u001b[0;34m(\u001b[0m\u001b[0;34m\"jabon\"\u001b[0m\u001b[0;34m,\u001b[0m \u001b[0;36m3\u001b[0m\u001b[0;34m)\u001b[0m\u001b[0;34m\u001b[0m\u001b[0;34m\u001b[0m\u001b[0m\n\u001b[0m",
      "\u001b[0;32m/tmp/ipykernel_767/351394591.py\u001b[0m in \u001b[0;36mactualizar_stock\u001b[0;34m(self, nombre, cantidad)\u001b[0m\n\u001b[1;32m     42\u001b[0m         \u001b[0;32mfor\u001b[0m \u001b[0mproducto\u001b[0m \u001b[0;32min\u001b[0m \u001b[0mself\u001b[0m\u001b[0;34m.\u001b[0m\u001b[0minventario\u001b[0m\u001b[0;34m:\u001b[0m\u001b[0;34m\u001b[0m\u001b[0;34m\u001b[0m\u001b[0m\n\u001b[1;32m     43\u001b[0m             \u001b[0;32mif\u001b[0m \u001b[0mproducto\u001b[0m\u001b[0;34m[\u001b[0m\u001b[0;34m\"nombre\"\u001b[0m\u001b[0;34m]\u001b[0m \u001b[0;34m==\u001b[0m \u001b[0mnombre\u001b[0m\u001b[0;34m:\u001b[0m\u001b[0;34m\u001b[0m\u001b[0;34m\u001b[0m\u001b[0m\n\u001b[0;32m---> 44\u001b[0;31m                 \u001b[0mproducto\u001b[0m\u001b[0;34m[\u001b[0m\u001b[0;34m\"cantidad\"\u001b[0m\u001b[0;34m]\u001b[0m \u001b[0;34m+=\u001b[0m \u001b[0mnueva_cantidad\u001b[0m\u001b[0;34m\u001b[0m\u001b[0;34m\u001b[0m\u001b[0m\n\u001b[0m\u001b[1;32m     45\u001b[0m                 \u001b[0mprint\u001b[0m\u001b[0;34m(\u001b[0m\u001b[0;34mf'El stock{nombre} se ha actualizado a {nueva_cantidad}'\u001b[0m\u001b[0;34m)\u001b[0m\u001b[0;34m\u001b[0m\u001b[0;34m\u001b[0m\u001b[0m\n\u001b[1;32m     46\u001b[0m                 \u001b[0;32mreturn\u001b[0m\u001b[0;34m\u001b[0m\u001b[0;34m\u001b[0m\u001b[0m\n",
      "\u001b[0;31mTypeError\u001b[0m: unsupported operand type(s) for +=: 'int' and 'list'"
     ]
    }
   ],
   "source": [
    "alquimelia.actualizar_stock(\"jabon\", 3)"
   ]
  },
  {
   "cell_type": "code",
   "execution_count": 308,
   "metadata": {},
   "outputs": [
    {
     "ename": "AttributeError",
     "evalue": "'TiendaOnline' object has no attribute 'valor_total'",
     "output_type": "error",
     "traceback": [
      "\u001b[0;31m---------------------------------------------------------------------------\u001b[0m",
      "\u001b[0;31mAttributeError\u001b[0m                            Traceback (most recent call last)",
      "\u001b[0;32m/tmp/ipykernel_767/3862891014.py\u001b[0m in \u001b[0;36m<module>\u001b[0;34m\u001b[0m\n\u001b[0;32m----> 1\u001b[0;31m \u001b[0malquimelia\u001b[0m\u001b[0;34m.\u001b[0m\u001b[0mvalor_total\u001b[0m\u001b[0;34m(\u001b[0m\u001b[0;36m2\u001b[0m\u001b[0;34m,\u001b[0m \u001b[0;36m5\u001b[0m\u001b[0;34m)\u001b[0m\u001b[0;34m\u001b[0m\u001b[0;34m\u001b[0m\u001b[0m\n\u001b[0m",
      "\u001b[0;31mAttributeError\u001b[0m: 'TiendaOnline' object has no attribute 'valor_total'"
     ]
    }
   ],
   "source": [
    "alquimelia.valor_total(2, 5)"
   ]
  }
 ],
 "metadata": {
  "kernelspec": {
   "display_name": "base",
   "language": "python",
   "name": "python3"
  },
  "language_info": {
   "codemirror_mode": {
    "name": "ipython",
    "version": 3
   },
   "file_extension": ".py",
   "mimetype": "text/x-python",
   "name": "python",
   "nbconvert_exporter": "python",
   "pygments_lexer": "ipython3",
   "version": "3.9.7"
  }
 },
 "nbformat": 4,
 "nbformat_minor": 2
}
